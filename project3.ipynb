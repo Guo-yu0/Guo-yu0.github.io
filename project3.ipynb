{
 "cells": [
  {
   "cell_type": "markdown",
   "metadata": {
    "id": "F9qPAgA5rCBk"
   },
   "source": [
    "# **Using LLMs for Deductive Coding in Qualitative Research**\n"
   ]
  },
  {
   "cell_type": "markdown",
   "metadata": {
    "id": "mgbzlAeYrhyz"
   },
   "source": [
    "# **1. Getting Started with Gemini: Your First API Call**\n",
    "\n",
    "Let’s make our first call to the Gemini model! We’ll go step-by-step to set up the environment, plug in the API key, and send a simple prompt."
   ]
  },
  {
   "cell_type": "code",
   "execution_count": 2,
   "metadata": {
    "id": "jD7zslKKwiSi"
   },
   "outputs": [],
   "source": [
    "# 🧱 **Step 1: Install the Gemini SDK**\n",
    "!pip install -q google-generativeai"
   ]
  },
  {
   "cell_type": "code",
   "execution_count": 3,
   "metadata": {
    "id": "8W3U7N7xwvFX"
   },
   "outputs": [],
   "source": [
    "#🔑 **Step 2: Import Libraries and Set Up Your API Key**\n",
    "import os\n",
    "import google.generativeai as genai\n",
    "\n",
    "# Paste your API key here (⚠️ do not share in public notebooks)\n",
    "os.environ[\"GOOGLE_API_KEY\"] = \"\"  # <--- REPLACE THIS with your own api key\n",
    "\n",
    "# Configure the API key\n",
    "genai.configure(api_key=os.environ[\"GOOGLE_API_KEY\"])"
   ]
  },
  {
   "cell_type": "code",
   "execution_count": 4,
   "metadata": {
    "id": "1ugIB-YTw50i"
   },
   "outputs": [],
   "source": [
    "#⚙️ **Step 3: Initialize the Gemini Model**\n",
    "model = genai.GenerativeModel(\"gemini-1.5-flash\")"
   ]
  },
  {
   "cell_type": "code",
   "execution_count": 5,
   "metadata": {
    "colab": {
     "base_uri": "https://localhost:8080/",
     "height": 200
    },
    "id": "EcVKQZjwxBF5",
    "outputId": "c6668f6c-bf8b-4112-f4c6-b05dcc88b2c0"
   },
   "outputs": [
    {
     "name": "stdout",
     "output_type": "stream",
     "text": [
      "Three benefits of using LLMs for qualitative coding are:\n",
      "\n",
      "1. **Increased Speed and Efficiency:** LLMs can process vast amounts of textual data significantly faster than a human coder. This allows researchers to analyze larger datasets and complete coding projects in a shorter timeframe, accelerating the research process.\n",
      "\n",
      "2. **Improved Consistency and Reliability:**  Human coders can introduce bias and inconsistencies in their coding decisions. LLMs, trained on large datasets, can apply coding schemes more consistently, reducing inter-rater reliability issues and enhancing the objectivity of the analysis.  This leads to more robust and reproducible findings.\n",
      "\n",
      "3. **Enhanced Identification of Subtle Themes and Patterns:** LLMs can identify subtle relationships and patterns within the data that might be missed by human coders due to cognitive limitations or fatigue. Their ability to analyze language nuances and contextual information can uncover hidden themes and enrich the qualitative understanding of the data.\n",
      "\n"
     ]
    }
   ],
   "source": [
    "# 💬 **Step 4: Try Your First Prompt!**\n",
    "response = model.generate_content(\"List three benefits of using LLMs for qualitative coding.\")\n",
    "\n",
    "# Print the result\n",
    "print(response.text)"
   ]
  },
  {
   "cell_type": "markdown",
   "metadata": {
    "id": "B-Eooav00gMq"
   },
   "source": [
    "# **2. Qualitative Coding Task with Gemini**\n",
    "\n",
    "In this session, we’ll walk through a simple example of using Gemini for a deductive qualitative coding task."
   ]
  },
  {
   "cell_type": "markdown",
   "metadata": {
    "id": "dyPZGUbVMSbX"
   },
   "source": [
    "## **2.1 Task Description**\n",
    "\n",
    "In this example, we’ll use a deductive coding task from a research project conducted at CCRC. In the study, we aimed to code how well extracted skills align with course descriptions.\n",
    "\n",
    "The course data comes from publicly available course descriptions on a higher education institution’s website, while the skills are drawn from O*NET’s list of over 2,000 Detailed Work Activities (DWAs).\n",
    "\n",
    "Below is the coding rubric we used to assess the alignment level between each skill and the course description.\n",
    "\n",
    "1.   Direct Match (5): The task is the core learning objective of the course and is explicitly covered.\n",
    "2.   Related (4): The task aligns with the course content and students are able to perform.\n",
    "3.   Transferable (3): The task is not explicitly covered but students may develop transferable skills that can be applied.\n",
    "4.   Same Domain(2): The task falls within the same discipline or broader field but is not relevant.\n",
    "5.   Unrelated (1): The task is outside the scope of the course and belongs to a different domain.\n",
    "\n",
    "\n",
    "\n"
   ]
  },
  {
   "cell_type": "markdown",
   "metadata": {
    "id": "2O4RiTG9XJen"
   },
   "source": [
    "## **2.2 Performing Qualitative Coding with Gemini**\n",
    "In this part, we’ll run a live example of qualitative coding using the Gemini API to demonstrate how LLMs can be guided to perform structured deductive coding in a real research context.\n"
   ]
  },
  {
   "cell_type": "markdown",
   "metadata": {
    "id": "arHvR9IuXSmI"
   },
   "source": [
    "**Step 1: Loading the data...**"
   ]
  },
  {
   "cell_type": "code",
   "execution_count": 6,
   "metadata": {
    "id": "3kiCUa4SqICR"
   },
   "outputs": [],
   "source": [
    "# read files\n",
    "import pandas as pd\n",
    "\n",
    "url = \"https://raw.githubusercontent.com/ZhenXu-0/Deductive-Coding-using-LLMs/refs/heads/main/human_labeled_data_100.csv\"\n",
    "df = pd.read_csv(url)"
   ]
  },
  {
   "cell_type": "code",
   "execution_count": 7,
   "metadata": {
    "colab": {
     "base_uri": "https://localhost:8080/"
    },
    "id": "apn2zAsQq0-7",
    "outputId": "77680388-836d-42a3-b402-ab0fa10648ad"
   },
   "outputs": [
    {
     "name": "stdout",
     "output_type": "stream",
     "text": [
      "                               domain     code                    title  \\\n",
      "0  Business Management and Accounting  ACC 122  accounting principles i   \n",
      "1  Business Management and Accounting  ACC 122  accounting principles i   \n",
      "2  Business Management and Accounting  ACC 122  accounting principles i   \n",
      "3  Business Management and Accounting  ACC 122  accounting principles i   \n",
      "4  Business Management and Accounting  ACC 122  accounting principles i   \n",
      "5  Business Management and Accounting  ACC 122  accounting principles i   \n",
      "6  Business Management and Accounting  ACC 122  accounting principles i   \n",
      "7  Business Management and Accounting  ACC 122  accounting principles i   \n",
      "8  Business Management and Accounting  ACC 122  accounting principles i   \n",
      "9  Business Management and Accounting  ACC 122  accounting principles i   \n",
      "\n",
      "                                         description  \\\n",
      "0  the course covers the fundamental principles o...   \n",
      "1  the course covers the fundamental principles o...   \n",
      "2  the course covers the fundamental principles o...   \n",
      "3  the course covers the fundamental principles o...   \n",
      "4  the course covers the fundamental principles o...   \n",
      "5  the course covers the fundamental principles o...   \n",
      "6  the course covers the fundamental principles o...   \n",
      "7  the course covers the fundamental principles o...   \n",
      "8  the course covers the fundamental principles o...   \n",
      "9  the course covers the fundamental principles o...   \n",
      "\n",
      "                                              skill  human_score  \n",
      "0   Maintain client information or service records.            4  \n",
      "1       Assemble machine tools, parts, or fixtures.            1  \n",
      "2                       Verify accuracy of records.            3  \n",
      "3                     Maintain operational records.            3  \n",
      "4                       Maintain personnel records.            3  \n",
      "5           Maintain repair or maintenance records.            1  \n",
      "6                            Maintain call records.            1  \n",
      "7                          Maintain client records.            2  \n",
      "8                   Train others on work processes.            1  \n",
      "9  Maintain operational records or records systems.            2  \n"
     ]
    }
   ],
   "source": [
    "df = df.head(10)\n",
    "print(df)"
   ]
  },
  {
   "cell_type": "markdown",
   "metadata": {
    "id": "8-ojR2uVXmCV"
   },
   "source": [
    "**Step 2: Prompting the Gemini Model to Perform the Coding Task** ..."
   ]
  },
  {
   "cell_type": "code",
   "execution_count": 10,
   "metadata": {
    "colab": {
     "base_uri": "https://localhost:8080/",
     "height": 220
    },
    "id": "wpujbK5J3iPR",
    "outputId": "4453c693-7230-46d6-b8a7-ac3889d95265"
   },
   "outputs": [
    {
     "name": "stdout",
     "output_type": "stream",
     "text": [
      "Scoring row 1/10: accounting principles i...\n",
      "Scoring row 2/10: accounting principles i...\n",
      "Scoring row 3/10: accounting principles i...\n",
      "Scoring row 4/10: accounting principles i...\n",
      "Scoring row 5/10: accounting principles i...\n",
      "Scoring row 6/10: accounting principles i...\n",
      "Scoring row 7/10: accounting principles i...\n",
      "Scoring row 8/10: accounting principles i...\n",
      "Scoring row 9/10: accounting principles i...\n",
      "Scoring row 10/10: accounting principles i...\n"
     ]
    }
   ],
   "source": [
    "import os\n",
    "import pandas as pd\n",
    "import google.generativeai as genai\n",
    "from tqdm import tqdm\n",
    "\n",
    "# --- Step 1: Setup Gemini API ---\n",
    "genai.configure(api_key=os.environ[\"GOOGLE_API_KEY\"])\n",
    "model = genai.GenerativeModel(model_name=\"models/gemini-1.5-flash\")\n",
    "\n",
    "# --- Step 2: Define your rubric as a string ---\n",
    "instruction = \"\"\"\n",
    "You are given a course and a skill.\n",
    "\n",
    "Rate the alignment of the skill with the course using the following 5-point scale:\n",
    "\n",
    "Score 5 (Direct Match): The real-world task is a core learning objective of the course and is explicitly covered in the course description.\n",
    "Score 4 (Related): The real-world task aligns with the course content, and students should be able to perform this task upon completing the course.\n",
    "Score 3 (Transferable): The task is not explicitly covered in the course, but students may develop transferable skills that can be applied to it.\n",
    "Score 2 (Same Domain): The task falls within the same discipline or broader field but is not relevant to the course content.\n",
    "Score 1 (Unrelated): The task is outside the scope of the course and belongs to a different domain.\n",
    "\n",
    "Only return the numeric score (1–5).\n",
    "\"\"\"\n",
    "\n",
    "# --- Step 3: Define a prompting function ---\n",
    "def score_alignment(domain, title, description, skill):\n",
    "    prompt = (\n",
    "        f\"{instruction}\\n\\n\"\n",
    "        f\"Course Domain: {domain}\\n\"\n",
    "        f\"Course Title: {title}\\n\"\n",
    "        f\"Course Description: {description}\\n\"\n",
    "        f\"Skill: {skill}\\n\"\n",
    "        f\"Score:\"\n",
    "    )\n",
    "    try:\n",
    "        response = model.generate_content(prompt)\n",
    "        return response.text.strip().split()[0]  # Just return the score (first token)\n",
    "    except Exception as e:\n",
    "        return f\"Error: {e}\"\n",
    "\n",
    "# --- Step 4: Apply to DataFrame ---\n",
    "\n",
    "llm_scores = []\n",
    "for i, row in enumerate(df.itertuples(), 1):\n",
    "    print(f\"Scoring row {i}/{len(df)}: {row.title[:50]}...\")  # show part of the title\n",
    "    score = score_alignment(row.domain, row.title, row.description, row.skill)\n",
    "    llm_scores.append(score)\n",
    "df[\"llm_score\"] = llm_scores\n"
   ]
  },
  {
   "cell_type": "code",
   "execution_count": 11,
   "metadata": {
    "colab": {
     "base_uri": "https://localhost:8080/"
    },
    "id": "1xjGGd9T3-l7",
    "outputId": "2c71ff63-548b-4ba2-caaa-c5ceecb2d07e"
   },
   "outputs": [
    {
     "name": "stdout",
     "output_type": "stream",
     "text": [
      "                               domain     code                    title  \\\n",
      "0  Business Management and Accounting  ACC 122  accounting principles i   \n",
      "1  Business Management and Accounting  ACC 122  accounting principles i   \n",
      "2  Business Management and Accounting  ACC 122  accounting principles i   \n",
      "3  Business Management and Accounting  ACC 122  accounting principles i   \n",
      "4  Business Management and Accounting  ACC 122  accounting principles i   \n",
      "5  Business Management and Accounting  ACC 122  accounting principles i   \n",
      "6  Business Management and Accounting  ACC 122  accounting principles i   \n",
      "7  Business Management and Accounting  ACC 122  accounting principles i   \n",
      "8  Business Management and Accounting  ACC 122  accounting principles i   \n",
      "9  Business Management and Accounting  ACC 122  accounting principles i   \n",
      "\n",
      "                                         description  \\\n",
      "0  the course covers the fundamental principles o...   \n",
      "1  the course covers the fundamental principles o...   \n",
      "2  the course covers the fundamental principles o...   \n",
      "3  the course covers the fundamental principles o...   \n",
      "4  the course covers the fundamental principles o...   \n",
      "5  the course covers the fundamental principles o...   \n",
      "6  the course covers the fundamental principles o...   \n",
      "7  the course covers the fundamental principles o...   \n",
      "8  the course covers the fundamental principles o...   \n",
      "9  the course covers the fundamental principles o...   \n",
      "\n",
      "                                              skill  human_score llm_score  \n",
      "0   Maintain client information or service records.            4         4  \n",
      "1       Assemble machine tools, parts, or fixtures.            1         1  \n",
      "2                       Verify accuracy of records.            3         4  \n",
      "3                     Maintain operational records.            3         4  \n",
      "4                       Maintain personnel records.            3         2  \n",
      "5           Maintain repair or maintenance records.            1         4  \n",
      "6                            Maintain call records.            1         2  \n",
      "7                          Maintain client records.            2         4  \n",
      "8                   Train others on work processes.            1         3  \n",
      "9  Maintain operational records or records systems.            2         4  \n"
     ]
    }
   ],
   "source": [
    "print(df)"
   ]
  },
  {
   "cell_type": "markdown",
   "metadata": {
    "id": "urqACl_WYQNP"
   },
   "source": [
    "## **2.3 Checking the Reliability of LLM Coding**\n",
    "After obtaining the LLM-generated labels, we compare them with human-labeled ground truth to evaluate the reliability of the model’s output.\n",
    "\n",
    "The ground truth in this dataset (the 'human_score' column) was created by two trained human raters. Their scores were calibrated through an initial round of alignment, and inter-rater agreement was assessed.\n",
    "\n",
    "The following code calculates the agreement between LLM-generated labels and human-coded ground truth using two common reliability metrics: Cohen’s Kappa and Intraclass Correlation Coefficient (ICC)."
   ]
  },
  {
   "cell_type": "code",
   "execution_count": 12,
   "metadata": {
    "colab": {
     "base_uri": "https://localhost:8080/"
    },
    "id": "mM9XnkdV7VWt",
    "outputId": "97f4fcc2-5c53-4fa5-fff4-f832123d011e"
   },
   "outputs": [
    {
     "name": "stdout",
     "output_type": "stream",
     "text": [
      "\u001b[?25l   \u001b[90m━━━━━━━━━━━━━━━━━━━━━━━━━━━━━━━━━━━━━━━━\u001b[0m \u001b[32m0.0/204.4 kB\u001b[0m \u001b[31m?\u001b[0m eta \u001b[36m-:--:--\u001b[0m\r",
      "\u001b[2K   \u001b[90m━━━━━━━━━━━━━━━━━━━━━━━━━━━━━━━━━━━━━━━━\u001b[0m \u001b[32m204.4/204.4 kB\u001b[0m \u001b[31m8.6 MB/s\u001b[0m eta \u001b[36m0:00:00\u001b[0m\n",
      "\u001b[?25h"
     ]
    }
   ],
   "source": [
    "!pip install -q pingouin scikit-learn\n",
    "import pandas as pd\n",
    "from sklearn.metrics import cohen_kappa_score\n",
    "import pingouin as pg  # for ICC\n",
    "\n",
    "# Make sure scores are numeric\n",
    "df[\"human_score\"] = pd.to_numeric(df[\"human_score\"], errors=\"coerce\")\n",
    "df[\"llm_score\"] = pd.to_numeric(df[\"llm_score\"], errors=\"coerce\")\n",
    "\n",
    "# Drop rows with missing values\n",
    "df_scores = df[[\"human_score\", \"llm_score\"]].dropna()"
   ]
  },
  {
   "cell_type": "code",
   "execution_count": 13,
   "metadata": {
    "colab": {
     "base_uri": "https://localhost:8080/"
    },
    "id": "Whd7KaD--9i4",
    "outputId": "59ccc6b7-91de-4465-d7c4-15c6241a95c5"
   },
   "outputs": [
    {
     "name": "stdout",
     "output_type": "stream",
     "text": [
      "Cohen's Kappa: 0.277\n",
      "ICC(3): 0.427\n"
     ]
    }
   ],
   "source": [
    "# 🔹 Cohen's Kappa\n",
    "kappa = cohen_kappa_score(df_scores[\"human_score\"], df_scores[\"llm_score\"], weights=\"quadratic\")\n",
    "print(f\"Cohen's Kappa: {kappa:.3f}\")\n",
    "\n",
    "# 🔹 ICC\n",
    "# Prepare data for ICC\n",
    "df_scores_reset = df_scores.reset_index()  # Add original index as a column\n",
    "\n",
    "# Melt into long format\n",
    "df_long = df_scores.reset_index().melt(\n",
    "    id_vars=\"index\",                  # this becomes the 'targets' column\n",
    "    value_vars=[\"human_score\", \"llm_score\"],\n",
    "    var_name=\"rater\",\n",
    "    value_name=\"score\"\n",
    ")\n",
    "\n",
    "# Calculate ICC(3) - Two-way mixed, consistency/absolute\n",
    "icc_table = pg.intraclass_corr(\n",
    "    data=df_long,\n",
    "    targets=\"index\",\n",
    "    raters=\"rater\",\n",
    "    ratings=\"score\"\n",
    ")\n",
    "\n",
    "# Filter ICC(3) result\n",
    "icc3_value = icc_table[icc_table[\"Type\"] == \"ICC3\"][\"ICC\"].values[0]\n",
    "print(f\"ICC(3): {icc3_value:.3f}\")\n"
   ]
  },
  {
   "cell_type": "markdown",
   "metadata": {
    "id": "bK44blrqFkJ7"
   },
   "source": [
    "# **3. Improving LLM Deductive Coding Reliability through Prompt Engineering**\n",
    "\n",
    "In this session, we’ll explore how different prompt engineering strategies can help improve the reliability of LLMs in deductive coding tasks. By adjusting how we frame instructions, provide context, or structure examples, we can guide the model to produce outputs that better align with human-coded results."
   ]
  },
  {
   "cell_type": "markdown",
   "metadata": {
    "id": "9P7A54U7bFMn"
   },
   "source": [
    "## **3.1 Prompt Engineering Basics**\n",
    "\n",
    "In this section, we’ll walk through three common prompting strategies to improve LLM performance on deductive coding tasks:\n",
    "\n",
    "*   Zero-shot prompting: The model is given only the instructions and the input text, without any examples. This tests how well the model can follow general guidance.\n",
    "*   Few-shot prompting: The prompt includes a few example inputs and their correct coded outputs. This helps the model learn from context and apply similar logic to new data.\n",
    "*   Chain-of-thought (CoT) prompting: We ask the model to explain its reasoning before giving the final code. This encourages step-by-step thinking and often improves accuracy and consistency.\n"
   ]
  },
  {
   "cell_type": "markdown",
   "metadata": {
    "id": "syT-eHwWcc9F"
   },
   "source": [
    "## **3.2 Testing Prompt Strategies**\n",
    "\n",
    "We’ll now test each prompting strategy—zero-shot, few-shot, and chain-of-thought—using the same input. By comparing the outputs, we’ll evaluate how each approach influences the clarity, consistency, and alignment of LLM coding with human-coded results."
   ]
  },
  {
   "cell_type": "markdown",
   "metadata": {
    "id": "J4xdWHIPeG2K"
   },
   "source": [
    "### **Zero-Shot**"
   ]
  },
  {
   "cell_type": "code",
   "execution_count": null,
   "metadata": {
    "colab": {
     "base_uri": "https://localhost:8080/",
     "height": 191
    },
    "id": "VQR1QEQZdF4X",
    "outputId": "f68e4500-cb40-48dc-ee99-e7864766e5ea"
   },
   "outputs": [
    {
     "name": "stdout",
     "output_type": "stream",
     "text": [
      "Scoring row 1/10: accounting principles i...\n",
      "Scoring row 2/10: accounting principles i...\n",
      "Scoring row 3/10: accounting principles i...\n",
      "Scoring row 4/10: accounting principles i...\n",
      "Scoring row 5/10: accounting principles i...\n",
      "Scoring row 6/10: accounting principles i...\n",
      "Scoring row 7/10: accounting principles i...\n",
      "Scoring row 8/10: accounting principles i...\n",
      "Scoring row 9/10: accounting principles i...\n",
      "Scoring row 10/10: accounting principles i...\n"
     ]
    }
   ],
   "source": [
    "# --- Step 1: Edit prompt as zero-shot ---\n",
    "instruction = \"\"\"\n",
    "You are given a course and a skill.\n",
    "\n",
    "Rate the alignment of the skill with the course using the following 5-point scale:\n",
    "\n",
    "Score 5 (Direct Match): The real-world task is a core learning objective of the course and is explicitly covered in the course description.\n",
    "Score 4 (Related): The real-world task aligns with the course content, and students should be able to perform this task upon completing the course.\n",
    "Score 3 (Transferable): The task is not explicitly covered in the course, but students may develop transferable skills that can be applied to it.\n",
    "Score 2 (Same Domain): The task falls within the same discipline or broader field but is not relevant to the course content.\n",
    "Score 1 (Unrelated): The task is outside the scope of the course and belongs to a different domain.\n",
    "\n",
    "Only return the numeric score (1–5).\n",
    "\"\"\"\n",
    "\n",
    "# --- Step 2: Apply to the data ---\n",
    "llm_scores = []\n",
    "for i, row in enumerate(df.itertuples(), 1):\n",
    "    print(f\"Scoring row {i}/{len(df)}: {row.title[:50]}...\")  # show part of the title\n",
    "    score = score_alignment(row.domain, row.title, row.description, row.skill)\n",
    "    llm_scores.append(score)\n",
    "df[\"llm_score\"] = llm_scores\n",
    "\n"
   ]
  },
  {
   "cell_type": "code",
   "execution_count": null,
   "metadata": {
    "colab": {
     "base_uri": "https://localhost:8080/"
    },
    "id": "u87U5fFNdqAD",
    "outputId": "8293589a-d344-430e-8976-da6c7355b103"
   },
   "outputs": [
    {
     "name": "stdout",
     "output_type": "stream",
     "text": [
      "Cohen's Kappa: 0.277\n",
      "ICC(3): 0.427\n"
     ]
    }
   ],
   "source": [
    "# Make sure scores are numeric\n",
    "df[\"human_score\"] = pd.to_numeric(df[\"human_score\"], errors=\"coerce\")\n",
    "df[\"llm_score\"] = pd.to_numeric(df[\"llm_score\"], errors=\"coerce\")\n",
    "\n",
    "# Drop rows with missing values\n",
    "df_scores = df[[\"human_score\", \"llm_score\"]].dropna()\n",
    "\n",
    "# 🔹 Cohen's Kappa\n",
    "kappa = cohen_kappa_score(df_scores[\"human_score\"], df_scores[\"llm_score\"], weights=\"quadratic\")\n",
    "print(f\"Cohen's Kappa: {kappa:.3f}\")\n",
    "\n",
    "# 🔹 ICC\n",
    "# Prepare data for ICC\n",
    "df_scores_reset = df_scores.reset_index()  # Add original index as a column\n",
    "\n",
    "# Melt into long format\n",
    "df_long = df_scores.reset_index().melt(\n",
    "    id_vars=\"index\",                  # this becomes the 'targets' column\n",
    "    value_vars=[\"human_score\", \"llm_score\"],\n",
    "    var_name=\"rater\",\n",
    "    value_name=\"score\"\n",
    ")\n",
    "\n",
    "# Calculate ICC(3) - Two-way mixed, consistency/absolute\n",
    "icc_table = pg.intraclass_corr(\n",
    "    data=df_long,\n",
    "    targets=\"index\",\n",
    "    raters=\"rater\",\n",
    "    ratings=\"score\"\n",
    ")\n",
    "\n",
    "# Filter ICC(3) result\n",
    "icc3_value = icc_table[icc_table[\"Type\"] == \"ICC3\"][\"ICC\"].values[0]\n",
    "print(f\"ICC(3): {icc3_value:.3f}\")\n"
   ]
  },
  {
   "cell_type": "markdown",
   "metadata": {
    "id": "j1K_6emTeY3q"
   },
   "source": [
    "### **Few-Shot**"
   ]
  },
  {
   "cell_type": "code",
   "execution_count": null,
   "metadata": {
    "colab": {
     "base_uri": "https://localhost:8080/",
     "height": 191
    },
    "id": "_gZpBfs0eVHx",
    "outputId": "23fac8ad-ae38-4a8e-e0d9-ad530732d87e"
   },
   "outputs": [
    {
     "name": "stdout",
     "output_type": "stream",
     "text": [
      "Scoring row 1/10: accounting principles i...\n",
      "Scoring row 2/10: accounting principles i...\n",
      "Scoring row 3/10: accounting principles i...\n",
      "Scoring row 4/10: accounting principles i...\n",
      "Scoring row 5/10: accounting principles i...\n",
      "Scoring row 6/10: accounting principles i...\n",
      "Scoring row 7/10: accounting principles i...\n",
      "Scoring row 8/10: accounting principles i...\n",
      "Scoring row 9/10: accounting principles i...\n",
      "Scoring row 10/10: accounting principles i...\n"
     ]
    }
   ],
   "source": [
    "# --- Step 1: Edit prompt as few-shot ---\n",
    "instruction = \"\"\"\n",
    "You are given a course and a skill.\n",
    "\n",
    "Rate the alignment of the skill with the course using the following 5-point scale:\n",
    "\n",
    "Score 5 (Direct Match): The real-world task is a core learning objective of the course and is explicitly covered in the course description.\n",
    "Score 4 (Related): The real-world task aligns with the course content, and students should be able to perform this task upon completing the course.\n",
    "Score 3 (Transferable): The task is not explicitly covered in the course, but students may develop transferable skills that can be applied to it.\n",
    "Score 2 (Same Domain): The task falls within the same discipline or broader field but is not relevant to the course content.\n",
    "Score 1 (Unrelated): The task is outside the scope of the course and belongs to a different domain.\n",
    "\n",
    "Here are some examples:\n",
    "\n",
    "Example 1:\n",
    "description: this course is a training program to provide the students with the necessary basic skills and knowledge to deal with a broad spectrum of illness and injuries in the pre hospital care phase of emergency medicine upon successful completion of the course students will take the new york state emergency medical technical certification examination once certified and upon completion of certain fundamental core courses the student will be eligible to take the advanced paramedic level courses of the program the course will be offered in the fall and spring semesters only\n",
    "Real-world Task:\n",
    "Treat medical emergencies, Rating:5\n",
    "Develop emergency response plans or procedures. Rating:4\n",
    "Provide medical or cosmetic advice for clients. Rating:3\n",
    "Teach health management classes. Rating:2\n",
    "Sell products or services. Rating:1\n",
    "\n",
    "Example 2:\n",
    "description: this is a course in fundamental engineering drawing and industrial drafting room practice lettering orthographic projection auxiliary views sessions and conventions pictorials threads and fasteners tolerances detail drawing dimension ing and electrical drawing introduction to computer aided graphics are covered\n",
    "Real-world Task:\n",
    "Create graphical representations of mechanical equipment. Rating:5\n",
    "Document technical design details. Rating:4\n",
    "Develop equipment or component configurations. Rating:3\n",
    "Develop tools to diagnose or assess needs. Rating:2\n",
    "Plan community programs or activities for the general public. Rating:1\n",
    "\n",
    "\n",
    "Now, please evaluate this case\n",
    "\n",
    "Only return the numeric score (1–5).\n",
    "\n",
    "\"\"\"\n",
    "\n",
    "# --- Step 2: Apply to the data ---\n",
    "llm_scores = []\n",
    "for i, row in enumerate(df.itertuples(), 1):\n",
    "    print(f\"Scoring row {i}/{len(df)}: {row.title[:50]}...\")  # show part of the title\n",
    "    score = score_alignment(row.domain, row.title, row.description, row.skill)\n",
    "    llm_scores.append(score)\n",
    "df[\"llm_score\"] = llm_scores\n",
    "\n"
   ]
  },
  {
   "cell_type": "code",
   "execution_count": null,
   "metadata": {
    "colab": {
     "base_uri": "https://localhost:8080/"
    },
    "id": "hL-V842Yf8Gm",
    "outputId": "29c4e97d-3333-4737-87ee-d39e20485407"
   },
   "outputs": [
    {
     "name": "stdout",
     "output_type": "stream",
     "text": [
      "Cohen's Kappa: 0.371\n",
      "ICC(3): 0.541\n"
     ]
    }
   ],
   "source": [
    "# Make sure scores are numeric\n",
    "df[\"human_score\"] = pd.to_numeric(df[\"human_score\"], errors=\"coerce\")\n",
    "df[\"llm_score\"] = pd.to_numeric(df[\"llm_score\"], errors=\"coerce\")\n",
    "\n",
    "# Drop rows with missing values\n",
    "df_scores = df[[\"human_score\", \"llm_score\"]].dropna()\n",
    "\n",
    "# 🔹 Cohen's Kappa\n",
    "kappa = cohen_kappa_score(df_scores[\"human_score\"], df_scores[\"llm_score\"], weights=\"quadratic\")\n",
    "print(f\"Cohen's Kappa: {kappa:.3f}\")\n",
    "\n",
    "# 🔹 ICC\n",
    "# Prepare data for ICC\n",
    "df_scores_reset = df_scores.reset_index()  # Add original index as a column\n",
    "\n",
    "# Melt into long format\n",
    "df_long = df_scores.reset_index().melt(\n",
    "    id_vars=\"index\",                  # this becomes the 'targets' column\n",
    "    value_vars=[\"human_score\", \"llm_score\"],\n",
    "    var_name=\"rater\",\n",
    "    value_name=\"score\"\n",
    ")\n",
    "\n",
    "# Calculate ICC(3) - Two-way mixed, consistency/absolute\n",
    "icc_table = pg.intraclass_corr(\n",
    "    data=df_long,\n",
    "    targets=\"index\",\n",
    "    raters=\"rater\",\n",
    "    ratings=\"score\"\n",
    ")\n",
    "\n",
    "# Filter ICC(3) result\n",
    "icc3_value = icc_table[icc_table[\"Type\"] == \"ICC3\"][\"ICC\"].values[0]\n",
    "print(f\"ICC(3): {icc3_value:.3f}\")\n"
   ]
  },
  {
   "cell_type": "markdown",
   "metadata": {
    "id": "1klPkzPRgHQL"
   },
   "source": [
    "### **Chain of thought**"
   ]
  },
  {
   "cell_type": "code",
   "execution_count": null,
   "metadata": {
    "colab": {
     "base_uri": "https://localhost:8080/",
     "height": 191
    },
    "id": "WbyxGUCKgGWQ",
    "outputId": "485d20be-426f-4037-a3e1-2367b0c9e18d"
   },
   "outputs": [
    {
     "name": "stdout",
     "output_type": "stream",
     "text": [
      "Scoring row 1/10: accounting principles i...\n",
      "Scoring row 2/10: accounting principles i...\n",
      "Scoring row 3/10: accounting principles i...\n",
      "Scoring row 4/10: accounting principles i...\n",
      "Scoring row 5/10: accounting principles i...\n",
      "Scoring row 6/10: accounting principles i...\n",
      "Scoring row 7/10: accounting principles i...\n",
      "Scoring row 8/10: accounting principles i...\n",
      "Scoring row 9/10: accounting principles i...\n",
      "Scoring row 10/10: accounting principles i...\n"
     ]
    }
   ],
   "source": [
    "# --- Step 1: Edit prompt as few-shot ---\n",
    "instruction = \"\"\"\n",
    "You are given a course and a skill.\n",
    "\n",
    "Rate the alignment of the skill with the course using the following 5-point scale:\n",
    "\n",
    "Score 5 (Direct Match): The real-world task is a core learning objective of the course and is explicitly covered in the course description.\n",
    "Score 4 (Related): The real-world task aligns with the course content, and students should be able to perform this task upon completing the course.\n",
    "Score 3 (Transferable): The task is not explicitly covered in the course, but students may develop transferable skills that can be applied to it.\n",
    "Score 2 (Same Domain): The task falls within the same discipline or broader field but is not relevant to the course content.\n",
    "Score 1 (Unrelated): The task is outside the scope of the course and belongs to a different domain.\n",
    "\n",
    "Here are some examples:\n",
    "\n",
    "Example 1:\n",
    "description: this course is a training program to provide the students with the necessary basic skills and knowledge to deal with a broad spectrum of illness and injuries in the pre hospital care phase of emergency medicine upon successful completion of the course students will take the new york state emergency medical technical certification examination once certified and upon completion of certain fundamental core courses the student will be eligible to take the advanced paramedic level courses of the program the course will be offered in the fall and spring semesters only\n",
    "Real-world Task:\n",
    "Treat medical emergencies, Rating:5\n",
    "Develop emergency response plans or procedures. Rating:4\n",
    "Provide medical or cosmetic advice for clients. Rating:3\n",
    "Teach health management classes. Rating:2\n",
    "Sell products or services. Rating:1\n",
    "\n",
    "Example 2:\n",
    "description: this is a course in fundamental engineering drawing and industrial drafting room practice lettering orthographic projection auxiliary views sessions and conventions pictorials threads and fasteners tolerances detail drawing dimension ing and electrical drawing introduction to computer aided graphics are covered\n",
    "Real-world Task:\n",
    "Create graphical representations of mechanical equipment. Rating:5\n",
    "Document technical design details. Rating:4\n",
    "Develop equipment or component configurations. Rating:3\n",
    "Develop tools to diagnose or assess needs. Rating:2\n",
    "Plan community programs or activities for the general public. Rating:1\n",
    "\n",
    "\n",
    "Now, please evaluate this case, think step by step\n",
    "\n",
    "Only return the numeric score (1–5).\n",
    "\n",
    "\"\"\"\n",
    "\n",
    "# --- Step 2: Apply to the data ---\n",
    "llm_scores = []\n",
    "for i, row in enumerate(df.itertuples(), 1):\n",
    "    print(f\"Scoring row {i}/{len(df)}: {row.title[:50]}...\")  # show part of the title\n",
    "    score = score_alignment(row.domain, row.title, row.description, row.skill)\n",
    "    llm_scores.append(score)\n",
    "df[\"llm_score\"] = llm_scores\n"
   ]
  },
  {
   "cell_type": "code",
   "execution_count": null,
   "metadata": {
    "colab": {
     "base_uri": "https://localhost:8080/"
    },
    "id": "2Sr1z5sAgTBj",
    "outputId": "52e4ed20-05fa-49f5-a58b-9a84e78b65ec"
   },
   "outputs": [
    {
     "name": "stdout",
     "output_type": "stream",
     "text": [
      "Cohen's Kappa: 0.371\n",
      "ICC(3): 0.541\n"
     ]
    }
   ],
   "source": [
    "# Make sure scores are numeric\n",
    "df[\"human_score\"] = pd.to_numeric(df[\"human_score\"], errors=\"coerce\")\n",
    "df[\"llm_score\"] = pd.to_numeric(df[\"llm_score\"], errors=\"coerce\")\n",
    "\n",
    "# Drop rows with missing values\n",
    "df_scores = df[[\"human_score\", \"llm_score\"]].dropna()\n",
    "\n",
    "# 🔹 Cohen's Kappa\n",
    "kappa = cohen_kappa_score(df_scores[\"human_score\"], df_scores[\"llm_score\"], weights=\"quadratic\")\n",
    "print(f\"Cohen's Kappa: {kappa:.3f}\")\n",
    "\n",
    "# 🔹 ICC\n",
    "# Prepare data for ICC\n",
    "df_scores_reset = df_scores.reset_index()  # Add original index as a column\n",
    "\n",
    "# Melt into long format\n",
    "df_long = df_scores.reset_index().melt(\n",
    "    id_vars=\"index\",                  # this becomes the 'targets' column\n",
    "    value_vars=[\"human_score\", \"llm_score\"],\n",
    "    var_name=\"rater\",\n",
    "    value_name=\"score\"\n",
    ")\n",
    "\n",
    "# Calculate ICC(3) - Two-way mixed, consistency/absolute\n",
    "icc_table = pg.intraclass_corr(\n",
    "    data=df_long,\n",
    "    targets=\"index\",\n",
    "    raters=\"rater\",\n",
    "    ratings=\"score\"\n",
    ")\n",
    "\n",
    "# Filter ICC(3) result\n",
    "icc3_value = icc_table[icc_table[\"Type\"] == \"ICC3\"][\"ICC\"].values[0]\n",
    "print(f\"ICC(3): {icc3_value:.3f}\")\n"
   ]
  },
  {
   "cell_type": "markdown",
   "metadata": {
    "id": "qDH_1Q0rhG_z"
   },
   "source": [
    "# **4. Try your own prompt**\n",
    "\n",
    "Now, let’s try to write your own prompt and see how the model responds..."
   ]
  },
  {
   "cell_type": "markdown",
   "metadata": {
    "id": "WGpsFUB_O5eu"
   },
   "source": [
    "## Improved CoT: Add Step-by-Step Evaluation Strategy in CoT"
   ]
  },
  {
   "cell_type": "code",
   "execution_count": 8,
   "metadata": {
    "id": "bU1MPg-3hhpB"
   },
   "outputs": [],
   "source": [
    "# --- Step 1: Write your own prompt ---\n",
    "instruction = \"\"\"\n",
    "\n",
    "You are given a course and a skill.\n",
    "\n",
    "Rate the alignment of the skill with the course using the following 5-point scale:\n",
    "\n",
    "Score 5 (Direct Match): The real-world task is a core learning objective of the course and is explicitly covered in the course description.\n",
    "Score 4 (Related): The real-world task aligns with the course content, and students should be able to perform this task upon completing the course.\n",
    "Score 3 (Transferable): The task is not explicitly covered in the course, but students may develop transferable skills that can be applied to it.\n",
    "Score 2 (Same Domain): The task falls within the same discipline or broader field but is not relevant to the course content.\n",
    "Score 1 (Unrelated): The task is outside the scope of the course and belongs to a different domain.\n",
    "\n",
    "Here are some examples:\n",
    "\n",
    "Example 1:\n",
    "description: this course is a training program to provide the students with the necessary basic skills and knowledge to deal with a broad spectrum of illness and injuries in the pre hospital care phase of emergency medicine upon successful completion of the course students will take the new york state emergency medical technical certification examination once certified and upon completion of certain fundamental core courses the student will be eligible to take the advanced paramedic level courses of the program the course will be offered in the fall and spring semesters only\n",
    "Real-world Task:\n",
    "Treat medical emergencies, Rating:5\n",
    "Develop emergency response plans or procedures. Rating:4\n",
    "Provide medical or cosmetic advice for clients. Rating:3\n",
    "Teach health management classes. Rating:2\n",
    "Sell products or services. Rating:1\n",
    "\n",
    "Example 2:\n",
    "description: this is a course in fundamental engineering drawing and industrial drafting room practice lettering orthographic projection auxiliary views sessions and conventions pictorials threads and fasteners tolerances detail drawing dimension ing and electrical drawing introduction to computer aided graphics are covered\n",
    "Real-world Task:\n",
    "Create graphical representations of mechanical equipment. Rating:5\n",
    "Document technical design details. Rating:4\n",
    "Develop equipment or component configurations. Rating:3\n",
    "Develop tools to diagnose or assess needs. Rating:2\n",
    "Plan community programs or activities for the general public. Rating:1\n",
    "\n",
    "\n",
    "Now, please evaluate this case, think step by step\n",
    "\n",
    "### Step-by-Step Evaluation Strategy:\n",
    "1. Read the course description and identify the main goals and content areas.\n",
    "2. Understand the task and its required skills or knowledge.\n",
    "3. Ask yourself:\n",
    "   - Is this task explicitly covered in the course?\n",
    "   - Is the task relevant, indirectly supported, or completely unrelated to the course?\n",
    "4. Assign a score (1–5) using the definitions above.\n",
    "\n",
    "Only return the numeric score (1–5).\n",
    "\n",
    "\"\"\"\n"
   ]
  },
  {
   "cell_type": "code",
   "execution_count": 14,
   "metadata": {
    "colab": {
     "base_uri": "https://localhost:8080/",
     "height": 322
    },
    "id": "urUTpp-Hhkl_",
    "outputId": "69da2d92-5de2-46af-a11c-3ea0ffe4b63e"
   },
   "outputs": [
    {
     "name": "stdout",
     "output_type": "stream",
     "text": [
      "Scoring row 1/10: accounting principles i...\n",
      "Scoring row 2/10: accounting principles i...\n",
      "Scoring row 3/10: accounting principles i...\n",
      "Scoring row 4/10: accounting principles i...\n",
      "Scoring row 5/10: accounting principles i...\n",
      "Scoring row 6/10: accounting principles i...\n",
      "Scoring row 7/10: accounting principles i...\n",
      "Scoring row 8/10: accounting principles i...\n"
     ]
    },
    {
     "name": "stderr",
     "output_type": "stream",
     "text": [
      "WARNING:tornado.access:429 POST /v1beta/models/gemini-1.5-flash:generateContent?%24alt=json%3Benum-encoding%3Dint (127.0.0.1) 479.98ms\n"
     ]
    },
    {
     "name": "stdout",
     "output_type": "stream",
     "text": [
      "Scoring row 9/10: accounting principles i...\n"
     ]
    },
    {
     "name": "stderr",
     "output_type": "stream",
     "text": [
      "WARNING:tornado.access:429 POST /v1beta/models/gemini-1.5-flash:generateContent?%24alt=json%3Benum-encoding%3Dint (127.0.0.1) 480.93ms\n"
     ]
    },
    {
     "name": "stdout",
     "output_type": "stream",
     "text": [
      "Scoring row 10/10: accounting principles i...\n"
     ]
    },
    {
     "name": "stderr",
     "output_type": "stream",
     "text": [
      "WARNING:tornado.access:429 POST /v1beta/models/gemini-1.5-flash:generateContent?%24alt=json%3Benum-encoding%3Dint (127.0.0.1) 531.63ms\n"
     ]
    },
    {
     "name": "stdout",
     "output_type": "stream",
     "text": [
      "Cohen's Kappa: 0.512\n",
      "ICC(3): 0.564\n"
     ]
    }
   ],
   "source": [
    "# --- Step 2: Apply to the data ---\n",
    "llm_scores = []\n",
    "for i, row in enumerate(df.itertuples(), 1):\n",
    "    print(f\"Scoring row {i}/{len(df)}: {row.title[:50]}...\")  # show part of the title\n",
    "    score = score_alignment(row.domain, row.title, row.description, row.skill)\n",
    "    llm_scores.append(score)\n",
    "df[\"llm_score\"] = llm_scores\n",
    "\n",
    "\n",
    "# Make sure scores are numeric\n",
    "df[\"human_score\"] = pd.to_numeric(df[\"human_score\"], errors=\"coerce\")\n",
    "df[\"llm_score\"] = pd.to_numeric(df[\"llm_score\"], errors=\"coerce\")\n",
    "\n",
    "# Drop rows with missing values\n",
    "df_scores = df[[\"human_score\", \"llm_score\"]].dropna()\n",
    "\n",
    "# 🔹 Cohen's Kappa\n",
    "kappa = cohen_kappa_score(df_scores[\"human_score\"], df_scores[\"llm_score\"], weights=\"quadratic\")\n",
    "print(f\"Cohen's Kappa: {kappa:.3f}\")\n",
    "\n",
    "# 🔹 ICC\n",
    "# Prepare data for ICC\n",
    "df_scores_reset = df_scores.reset_index()  # Add original index as a column\n",
    "\n",
    "# Melt into long format\n",
    "df_long = df_scores.reset_index().melt(\n",
    "    id_vars=\"index\",                  # this becomes the 'targets' column\n",
    "    value_vars=[\"human_score\", \"llm_score\"],\n",
    "    var_name=\"rater\",\n",
    "    value_name=\"score\"\n",
    ")\n",
    "\n",
    "# Calculate ICC(3) - Two-way mixed, consistency/absolute\n",
    "icc_table = pg.intraclass_corr(\n",
    "    data=df_long,\n",
    "    targets=\"index\",\n",
    "    raters=\"rater\",\n",
    "    ratings=\"score\"\n",
    ")\n",
    "\n",
    "# Filter ICC(3) result\n",
    "icc3_value = icc_table[icc_table[\"Type\"] == \"ICC3\"][\"ICC\"].values[0]\n",
    "print(f\"ICC(3): {icc3_value:.3f}\")"
   ]
  },
  {
   "cell_type": "code",
   "execution_count": null,
   "metadata": {
    "id": "mZi_8u4LYETm"
   },
   "outputs": [],
   "source": []
  },
  {
   "cell_type": "code",
   "execution_count": null,
   "metadata": {
    "id": "WBNIcqBdIWFc"
   },
   "outputs": [],
   "source": []
  },
  {
   "cell_type": "markdown",
   "metadata": {
    "id": "yiBdMLrXPPy_"
   },
   "source": [
    "## CCoT: Add Incorrect Examples Based on Improved CoT"
   ]
  },
  {
   "cell_type": "code",
   "execution_count": 17,
   "metadata": {
    "id": "xjy6HpQaPm25"
   },
   "outputs": [],
   "source": [
    "# --- Step 1: Write your own prompt ---\n",
    "instruction = \"\"\"\n",
    "\n",
    "You are given a course and a skill.\n",
    "\n",
    "Rate the alignment of the skill with the course using the following 5-point scale:\n",
    "\n",
    "Score 5 (Direct Match): The real-world task is a core learning objective of the course and is explicitly covered in the course description.\n",
    "Score 4 (Related): The real-world task aligns with the course content, and students should be able to perform this task upon completing the course.\n",
    "Score 3 (Transferable): The task is not explicitly covered in the course, but students may develop transferable skills that can be applied to it.\n",
    "Score 2 (Same Domain): The task falls within the same discipline or broader field but is not relevant to the course content.\n",
    "Score 1 (Unrelated): The task is outside the scope of the course and belongs to a different domain.\n",
    "\n",
    "Here are some correct examples and incorrect examples:\n",
    "\n",
    "Correct Example 1:\n",
    "description: this course is a training program to provide the students with the necessary basic skills and knowledge to deal with a broad spectrum of illness and injuries in the pre hospital care phase of emergency medicine upon successful completion of the course students will take the new york state emergency medical technical certification examination once certified and upon completion of certain fundamental core courses the student will be eligible to take the advanced paramedic level courses of the program the course will be offered in the fall and spring semesters only\n",
    "Real-world Task:\n",
    "Treat medical emergencies, Rating:5\n",
    "Develop emergency response plans or procedures. Rating:4\n",
    "Provide medical or cosmetic advice for clients. Rating:3\n",
    "Teach health management classes. Rating:2\n",
    "Sell products or services. Rating:1\n",
    "\n",
    "Correct Example 2:\n",
    "description: this is a course in fundamental engineering drawing and industrial drafting room practice lettering orthographic projection auxiliary views sessions and conventions pictorials threads and fasteners tolerances detail drawing dimension ing and electrical drawing introduction to computer aided graphics are covered\n",
    "Real-world Task:\n",
    "Create graphical representations of mechanical equipment. Rating:5\n",
    "Document technical design details. Rating:4\n",
    "Develop equipment or component configurations. Rating:3\n",
    "Develop tools to diagnose or assess needs. Rating:2\n",
    "Plan community programs or activities for the general public. Rating:1\n",
    "\n",
    "Incorrect Example 1:\n",
    "description: this course provides an overview of financial accounting principles, including balance sheet preparation, income statements, and journal entries. Students will gain foundational skills in accounting software and transaction recording.\n",
    "Real-world Task:\n",
    "Assemble machine tools, parts, or fixtures. Incorrect rating: 4, Correct rating: 1 (Unrelated)\n",
    "Reason: This task belongs to the mechanical/engineering domain and has no relation to financial accounting.\n",
    "Verify accuracy of records. Incorrect rating: 2, Correct rating: 4 (Related)\n",
    "Reason: Verifying records is a directly relevant task in accounting and is likely practiced in journal entry and balance sheet work.\n",
    "Maintain personnel records. Incorrect rating: 5, Correct rating: 2 (Same Domain)\n",
    "Reason: While this involves record-keeping, it’s specific to HR functions and not the focus of financial accounting.\n",
    "\n",
    "Incorrect Example 2:\n",
    "description: this course focuses on digital marketing strategies including SEO, PPC advertising, email campaigns, social media branding, and customer analytics.\n",
    "Real-world Task:\n",
    "Develop online advertising strategies.Incorrect rating: 2, Correct rating: 5 (Direct Match)\n",
    "Reason: This is explicitly covered in the course (SEO, PPC).\n",
    "Write content for digital platforms. Incorrect rating: 3, Correct rating: 4 (Related)\n",
    "Reason: This task is a likely component of social media branding and email campaigns.\n",
    "Plan community outreach events. Incorrect rating: 4, Correct rating: 2 (Same Domain)\n",
    "Reason: This task is not mentioned in the course and is more aligned with public relations or nonprofit work.\n",
    "\n",
    "Now, please evaluate this case, think step by step\n",
    "\n",
    "### Step-by-Step Evaluation Strategy:\n",
    "1. Read the course description and identify the main goals and content areas.\n",
    "2. Understand the task and its required skills or knowledge.\n",
    "3. Ask yourself:\n",
    "   - Is this task explicitly covered in the course?\n",
    "   - Is the task relevant, indirectly supported, or completely unrelated to the course?\n",
    "4. Assign a score (1–5) using the definitions above.\n",
    "5. Before finalizing your rating, compare your judgment with the provided examples. If your reasoning resembles an incorrect example, reconsider your rating.\n",
    "\n",
    "\n",
    "Only return the numeric score (1–5).\n",
    "\n",
    "\"\"\"\n"
   ]
  },
  {
   "cell_type": "code",
   "execution_count": 18,
   "metadata": {
    "colab": {
     "base_uri": "https://localhost:8080/",
     "height": 261
    },
    "id": "qxItPDL9PnEs",
    "outputId": "5f1bbc5e-a90f-426a-b41d-e4e299a0abfb"
   },
   "outputs": [
    {
     "name": "stdout",
     "output_type": "stream",
     "text": [
      "Scoring row 1/10: accounting principles i...\n",
      "Scoring row 2/10: accounting principles i...\n",
      "Scoring row 3/10: accounting principles i...\n",
      "Scoring row 4/10: accounting principles i...\n",
      "Scoring row 5/10: accounting principles i...\n",
      "Scoring row 6/10: accounting principles i...\n",
      "Scoring row 7/10: accounting principles i...\n",
      "Scoring row 8/10: accounting principles i...\n",
      "Scoring row 9/10: accounting principles i...\n",
      "Scoring row 10/10: accounting principles i...\n",
      "Cohen's Kappa: 0.624\n",
      "ICC(3): 0.722\n"
     ]
    }
   ],
   "source": [
    "# --- Step 2: Apply to the data ---\n",
    "llm_scores = []\n",
    "for i, row in enumerate(df.itertuples(), 1):\n",
    "    print(f\"Scoring row {i}/{len(df)}: {row.title[:50]}...\")  # show part of the title\n",
    "    score = score_alignment(row.domain, row.title, row.description, row.skill)\n",
    "    llm_scores.append(score)\n",
    "df[\"llm_score\"] = llm_scores\n",
    "\n",
    "\n",
    "# Make sure scores are numeric\n",
    "df[\"human_score\"] = pd.to_numeric(df[\"human_score\"], errors=\"coerce\")\n",
    "df[\"llm_score\"] = pd.to_numeric(df[\"llm_score\"], errors=\"coerce\")\n",
    "\n",
    "# Drop rows with missing values\n",
    "df_scores = df[[\"human_score\", \"llm_score\"]].dropna()\n",
    "\n",
    "# 🔹 Cohen's Kappa\n",
    "kappa = cohen_kappa_score(df_scores[\"human_score\"], df_scores[\"llm_score\"], weights=\"quadratic\")\n",
    "print(f\"Cohen's Kappa: {kappa:.3f}\")\n",
    "\n",
    "# 🔹 ICC\n",
    "# Prepare data for ICC\n",
    "df_scores_reset = df_scores.reset_index()  # Add original index as a column\n",
    "\n",
    "# Melt into long format\n",
    "df_long = df_scores.reset_index().melt(\n",
    "    id_vars=\"index\",                  # this becomes the 'targets' column\n",
    "    value_vars=[\"human_score\", \"llm_score\"],\n",
    "    var_name=\"rater\",\n",
    "    value_name=\"score\"\n",
    ")\n",
    "\n",
    "# Calculate ICC(3) - Two-way mixed, consistency/absolute\n",
    "icc_table = pg.intraclass_corr(\n",
    "    data=df_long,\n",
    "    targets=\"index\",\n",
    "    raters=\"rater\",\n",
    "    ratings=\"score\"\n",
    ")\n",
    "\n",
    "# Filter ICC(3) result\n",
    "icc3_value = icc_table[icc_table[\"Type\"] == \"ICC3\"][\"ICC\"].values[0]\n",
    "print(f\"ICC(3): {icc3_value:.3f}\")"
   ]
  },
  {
   "cell_type": "code",
   "execution_count": null,
   "metadata": {
    "id": "2w1x18fiPnf3"
   },
   "outputs": [],
   "source": []
  },
  {
   "cell_type": "markdown",
   "metadata": {
    "id": "r_jDwb0vcnPu"
   },
   "source": [
    "\n",
    "## Here, we use two prompting strategies, including (1) Improved CoT: Add Step-by-Step Evaluation Strategy in CoT (ICC(3): 0.564), (2) CCoT: Add Incorrect Examples Based on Improved CoT (ICC(3): 0.722).\n",
    "\n",
    "## Based on the above reported results, we can observe that using good prompting strategies can achieve higher scores.\n"
   ]
  },
  {
   "cell_type": "code",
   "execution_count": null,
   "metadata": {
    "id": "-daVOAWQIWFd"
   },
   "outputs": [],
   "source": []
  },
  {
   "cell_type": "code",
   "execution_count": null,
   "metadata": {
    "id": "H2cjYyV9IWFd"
   },
   "outputs": [],
   "source": []
  }
 ],
 "metadata": {
  "colab": {
   "provenance": [],
   "toc_visible": true
  },
  "kernelspec": {
   "display_name": "Python 3 (ipykernel)",
   "language": "python",
   "name": "python3"
  },
  "language_info": {
   "codemirror_mode": {
    "name": "ipython",
    "version": 3
   },
   "file_extension": ".py",
   "mimetype": "text/x-python",
   "name": "python",
   "nbconvert_exporter": "python",
   "pygments_lexer": "ipython3",
   "version": "3.9.0"
  }
 },
 "nbformat": 4,
 "nbformat_minor": 4
}
